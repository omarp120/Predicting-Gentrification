{
 "cells": [
  {
   "cell_type": "markdown",
   "metadata": {},
   "source": [
    "# Gentrified Counties\n",
    " counties that have had 25% or more of their tracts gentrified\n",
    " "
   ]
  },
  {
   "cell_type": "code",
   "execution_count": 3,
   "metadata": {},
   "outputs": [],
   "source": [
    "percentage = {\n",
    "    \"Portland, OR\":58.1,\n",
    "    \"Washington, DC\" :51.9,\n",
    "    \"Minneapolis, MN\" : 50.6,\n",
    "    \"Seattle, WA\": 50.0,\n",
    "    \"Virginia Beach, VA\" : 46.2,\n",
    "    \"Atlanta, GA\": 46.2,\n",
    "    \"Denver, CO\": 42.1,\n",
    "    \"Austin, TX\": 39.7,\n",
    "    \"Sacramento, CA\": 30.0,\n",
    "    \"New York, NY\": 29.8,\n",
    "    \"Oakland, CA\": 29.3,\n",
    "    \"Philadelphia, PA\": 28.7,\n",
    "    \"Albuquerque, NM\": 28.1,\n",
    "    \"San Diego, CA\": 27.5\n",
    "}"
   ]
  },
  {
   "cell_type": "code",
   "execution_count": 4,
   "metadata": {},
   "outputs": [],
   "source": [
    "city_to_county ={\n",
    "    \"Portland, OR\": \"multnomah-county\",\n",
    "    \"Washington, DC\" : \"district-of-columbia\",\n",
    "    \"Minneapolis, MN\" : \"hennepin-county\",\n",
    "    \"Seattle, WA\": \"king-county\",\n",
    "    \"Virginia Beach, VA\" : \"virginia-beach-city\",\n",
    "    \"Atlanta, GA\": \"fulton-county\",\n",
    "    \"Denver, CO\": \"denver-county\",\n",
    "    \"Austin, TX\": \"travis-county\",\n",
    "    \"Sacramento, CA\": \"sacramento-county\",\n",
    "    \"New York, NY\": \"new-york-county\", #which borough are they talking about ?\n",
    "    \"Oakland, CA\": \"alameda-county\",\n",
    "    \"Philadelphia, PA\": \"philadelphia-county\",\n",
    "    \"Albuquerque, NM\": \"bernalillo-county\",\n",
    "    \"San Diego, CA\": \"san-deigo-county\"   \n",
    "}"
   ]
  },
  {
   "cell_type": "code",
   "execution_count": 5,
   "metadata": {},
   "outputs": [
    {
     "data": {
      "text/plain": [
       "{'alameda-county': 29.3,\n",
       " 'bernalillo-county': 28.1,\n",
       " 'denver-county': 42.1,\n",
       " 'district-of-columbia': 51.9,\n",
       " 'fulton-county': 46.2,\n",
       " 'hennepin-county': 50.6,\n",
       " 'king-county': 50.0,\n",
       " 'multnomah-county': 58.1,\n",
       " 'new-york-county': 29.8,\n",
       " 'philadelphia-county': 28.7,\n",
       " 'sacramento-county': 30.0,\n",
       " 'san-deigo-county': 27.5,\n",
       " 'travis-county': 39.7,\n",
       " 'virginia-beach-city': 46.2}"
      ]
     },
     "execution_count": 5,
     "metadata": {},
     "output_type": "execute_result"
    }
   ],
   "source": [
    "city_per_gent = {}\n",
    "for item in city_to_county:\n",
    "    city_per_gent[city_to_county[item]] = percentage[item]\n",
    "city_per_gent"
   ]
  },
  {
   "cell_type": "code",
   "execution_count": null,
   "metadata": {},
   "outputs": [],
   "source": []
  }
 ],
 "metadata": {
  "kernelspec": {
   "display_name": "Python 2",
   "language": "python",
   "name": "python2"
  },
  "language_info": {
   "codemirror_mode": {
    "name": "ipython",
    "version": 2
   },
   "file_extension": ".py",
   "mimetype": "text/x-python",
   "name": "python",
   "nbconvert_exporter": "python",
   "pygments_lexer": "ipython2",
   "version": "2.7.15"
  }
 },
 "nbformat": 4,
 "nbformat_minor": 2
}
